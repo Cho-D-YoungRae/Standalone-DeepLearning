{
  "nbformat": 4,
  "nbformat_minor": 0,
  "metadata": {
    "colab": {
      "name": "JSONStudy4TrainLog.ipynb",
      "provenance": [],
      "collapsed_sections": [],
      "authorship_tag": "ABX9TyNwLb4CIvRyAWX/M4R59X2D"
    },
    "kernelspec": {
      "name": "python3",
      "display_name": "Python 3"
    },
    "language_info": {
      "name": "python"
    },
    "accelerator": "GPU"
  },
  "cells": [
    {
      "cell_type": "code",
      "metadata": {
        "id": "_1kXvfacBfeG"
      },
      "source": [
        "import json\n",
        "import hashlib"
      ],
      "execution_count": 10,
      "outputs": []
    },
    {
      "cell_type": "code",
      "metadata": {
        "id": "a-VApj3bByVz"
      },
      "source": [
        "a = {'value1': 5, 'value2': 10, 'seq': [1, 2, 3, 4, 5]}\n",
        "\n",
        "filename = 'test.json'\n",
        "with open(filename, 'w') as f:\n",
        "    json.dump(a, f)"
      ],
      "execution_count": 13,
      "outputs": []
    },
    {
      "cell_type": "code",
      "metadata": {
        "colab": {
          "base_uri": "https://localhost:8080/"
        },
        "id": "E3EQK9JeCD73",
        "outputId": "1599987e-20e6-4772-d889-960a7dfb2b9a"
      },
      "source": [
        "!ls"
      ],
      "execution_count": 6,
      "outputs": [
        {
          "output_type": "stream",
          "text": [
            "sample_data  test.json\n"
          ],
          "name": "stdout"
        }
      ]
    },
    {
      "cell_type": "code",
      "metadata": {
        "colab": {
          "base_uri": "https://localhost:8080/"
        },
        "id": "bj1YFZjoCIuw",
        "outputId": "e927ba59-a931-458e-92b4-af79df261cdf"
      },
      "source": [
        "!cat test.json"
      ],
      "execution_count": 7,
      "outputs": [
        {
          "output_type": "stream",
          "text": [
            "{\"value1\": 5, \"value2\": 10, \"seq\": [1, 2, 3, 4, 5]}"
          ],
          "name": "stdout"
        }
      ]
    },
    {
      "cell_type": "code",
      "metadata": {
        "colab": {
          "base_uri": "https://localhost:8080/"
        },
        "id": "cqCJJfnvCMOn",
        "outputId": "ca13ad36-427f-4ae7-86e9-98d54125a9f1"
      },
      "source": [
        "with open(filename, 'r') as f:\n",
        "    result = json.load(f)\n",
        "    print(result)"
      ],
      "execution_count": 8,
      "outputs": [
        {
          "output_type": "stream",
          "text": [
            "{'value1': 5, 'value2': 10, 'seq': [1, 2, 3, 4, 5]}\n"
          ],
          "name": "stdout"
        }
      ]
    },
    {
      "cell_type": "code",
      "metadata": {
        "colab": {
          "base_uri": "https://localhost:8080/"
        },
        "id": "cN5dyO49CgjD",
        "outputId": "1b9a8061-8aac-41d7-af7a-28b4705b8e4e"
      },
      "source": [
        "type(result)"
      ],
      "execution_count": 9,
      "outputs": [
        {
          "output_type": "execute_result",
          "data": {
            "text/plain": [
              "dict"
            ]
          },
          "metadata": {
            "tags": []
          },
          "execution_count": 9
        }
      ]
    },
    {
      "cell_type": "code",
      "metadata": {
        "colab": {
          "base_uri": "https://localhost:8080/"
        },
        "id": "mW3tAgd-Cjap",
        "outputId": "a90bda82-43ac-4162-8167-9220ea499def"
      },
      "source": [
        "a = \"my nanme is youngrae\"\n",
        "hash_key = hashlib.sha1(a.encode()).hexdigest()\n",
        "print(hash_key)"
      ],
      "execution_count": 14,
      "outputs": [
        {
          "output_type": "stream",
          "text": [
            "b4340c9d28a0a7718e0786ab9c03ac91868ef43d\n"
          ],
          "name": "stdout"
        }
      ]
    },
    {
      "cell_type": "code",
      "metadata": {
        "colab": {
          "base_uri": "https://localhost:8080/"
        },
        "id": "n-WIimLQDkGv",
        "outputId": "d559e372-010c-4222-cdf9-349ee85eaa1d"
      },
      "source": [
        "a.encode()"
      ],
      "execution_count": 15,
      "outputs": [
        {
          "output_type": "execute_result",
          "data": {
            "text/plain": [
              "b'my nanme is youngrae'"
            ]
          },
          "metadata": {
            "tags": []
          },
          "execution_count": 15
        }
      ]
    },
    {
      "cell_type": "code",
      "metadata": {
        "colab": {
          "base_uri": "https://localhost:8080/"
        },
        "id": "Mc3FmOkHDnen",
        "outputId": "a89b8820-6c5e-47e2-d46a-4c79b48ae727"
      },
      "source": [
        "setting = a = {'value1': 5, 'value2': 10, 'seq': [1, 2, 3, 4, 5]}\n",
        "\n",
        "hash_key = hashlib.sha1(str(setting).encode()).hexdigest()\n",
        "print(hash_key)"
      ],
      "execution_count": 16,
      "outputs": [
        {
          "output_type": "stream",
          "text": [
            "c40aaa2e52036e0bb2128f2830764d91fc72ffe5\n"
          ],
          "name": "stdout"
        }
      ]
    },
    {
      "cell_type": "code",
      "metadata": {
        "colab": {
          "base_uri": "https://localhost:8080/",
          "height": 37
        },
        "id": "FD30qUgFD7dD",
        "outputId": "0e639274-b373-4ef6-9e2e-0d44288c9b05"
      },
      "source": [
        "str(setting)"
      ],
      "execution_count": 17,
      "outputs": [
        {
          "output_type": "execute_result",
          "data": {
            "application/vnd.google.colaboratory.intrinsic+json": {
              "type": "string"
            },
            "text/plain": [
              "\"{'value1': 5, 'value2': 10, 'seq': [1, 2, 3, 4, 5]}\""
            ]
          },
          "metadata": {
            "tags": []
          },
          "execution_count": 17
        }
      ]
    },
    {
      "cell_type": "code",
      "metadata": {
        "colab": {
          "base_uri": "https://localhost:8080/"
        },
        "id": "-VjsdJ8ID8zm",
        "outputId": "39d50c3d-2d63-47f7-f87a-c5daddf21a3e"
      },
      "source": [
        "setting = a = {'value1': 5, \n",
        "               'value2': 10,\n",
        "               'seq': [1, 2, 3, 4, 5],\n",
        "               'exp_name': 'exp1'}\n",
        "\n",
        "exp_name = setting['exp_name']\n",
        "hash_key = hashlib.sha1(str(setting).encode()).hexdigest()[:6]\n",
        "filename = f\"{exp_name}-{hash_key}.json\"\n",
        "print(filename)"
      ],
      "execution_count": 18,
      "outputs": [
        {
          "output_type": "stream",
          "text": [
            "exp1-4766aa.json\n"
          ],
          "name": "stdout"
        }
      ]
    },
    {
      "cell_type": "markdown",
      "metadata": {
        "id": "a0zM4IauEZW_"
      },
      "source": [
        "## My Thinking\n",
        "\n",
        "1. 해쉬값의 일부 (6개 값...) 만 이용했는데, 복구 가능한 해쉬 함수를 이용하고 모든 값을 다 사용한다면 어떤 파라미터를 사용했는지도 이름을 통해 알 수 있도록 하는 방법을 고안해볼 수 있을 것 같다."
      ]
    }
  ]
}