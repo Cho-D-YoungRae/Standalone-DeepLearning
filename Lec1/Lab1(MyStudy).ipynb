{
  "nbformat": 4,
  "nbformat_minor": 0,
  "metadata": {
    "colab": {
      "name": "Lab1(MyStudy).ipynb",
      "provenance": [],
      "authorship_tag": "ABX9TyPULgGgmgY08BTNZmdLSX2b"
    },
    "kernelspec": {
      "name": "python3",
      "display_name": "Python 3"
    },
    "language_info": {
      "name": "python"
    }
  },
  "cells": [
    {
      "cell_type": "markdown",
      "metadata": {
        "id": "KQoJy3ECsNbB"
      },
      "source": [
        "# Lab1. Linear Regression (with pure python)"
      ]
    },
    {
      "cell_type": "markdown",
      "metadata": {
        "id": "xJzFm0Parzjp"
      },
      "source": [
        "## 1. Data Generation (Preparation)\n",
        "\n",
        "Linear Regression 실습에 사용할 공부한 시간에 따른 성적 데이터를 만들어봅시다."
      ]
    },
    {
      "cell_type": "code",
      "metadata": {
        "id": "BU-nSoGGZv_W"
      },
      "source": [
        "X = list(range(10))\n",
        "Y = [1, 1, 2, 4, 5, 7, 8, 9, 9, 10]"
      ],
      "execution_count": 1,
      "outputs": []
    },
    {
      "cell_type": "code",
      "metadata": {
        "colab": {
          "base_uri": "https://localhost:8080/",
          "height": 265
        },
        "id": "mELWDwjgsOzj",
        "outputId": "8aea2e74-b4e9-4c89-e031-f318714296f5"
      },
      "source": [
        "import matplotlib.pyplot as plt\n",
        "plt.scatter(X, Y)\n",
        "plt.plot(X, Y)\n",
        "plt.show()"
      ],
      "execution_count": 3,
      "outputs": [
        {
          "output_type": "display_data",
          "data": {
            "image/png": "[encoded data removed]",
            "text/plain": [
              "<Figure size 432x288 with 1 Axes>"
            ]
          },
          "metadata": {
            "tags": [],
            "needs_background": "light"
          }
        }
      ]
    },
    {
      "cell_type": "markdown",
      "metadata": {
        "id": "I8W_4Ievt7OS"
      },
      "source": [
        "## 2. Hypothesis Define (Model Define)\n",
        "\n",
        "Linear Regression 시에 활용하는 f(x) = Wx + b에서 b가 없는 간단한 버전인 f(x) = Wx 라는 모델(가설)을 구현해봅니다.\n"
      ]
    },
    {
      "cell_type": "code",
      "metadata": {
        "colab": {
          "base_uri": "https://localhost:8080/"
        },
        "id": "g7K-1rVNuLD-",
        "outputId": "b376b72a-0cb8-4c1f-8ef5-b6b53ad1eb1a"
      },
      "source": [
        "class H():\n",
        "  \n",
        "  def __init__(self, w):\n",
        "    self.w = w\n",
        "\n",
        "  def forward(self, x):\n",
        "    return self.w * x\n",
        "\n",
        "h = H(4)\n",
        "pred_y = h.forward(5)\n",
        "\n",
        "print(f\"value of f(5): {pred_y}\")\n",
        "print(f\"value of w: {h.w}\")"
      ],
      "execution_count": 4,
      "outputs": [
        {
          "output_type": "stream",
          "text": [
            "value of f(5): 20\n",
            "value of w: 4\n"
          ],
          "name": "stdout"
        }
      ]
    },
    {
      "cell_type": "markdown",
      "metadata": {
        "id": "_vnNC4oKvyXJ"
      },
      "source": [
        "## 3. Cost Function Define (Loss Function Define)\n",
        "\n",
        "Regression Problem 에서의 Cost Function을 작성해봅시다."
      ]
    },
    {
      "cell_type": "code",
      "metadata": {
        "colab": {
          "base_uri": "https://localhost:8080/"
        },
        "id": "9HndhfSMvoC_",
        "outputId": "cf3d2d78-3a64-41a2-a3cc-fbb7868f652f"
      },
      "source": [
        "def cost(h, X, Y):\n",
        "  error = 0\n",
        "  for i in range(len(X)):\n",
        "    error += (h.forward(X[i]) - Y[i]) ** 2\n",
        "  error = error / len(X)\n",
        "  return error\n",
        "\n",
        "h = H(4)\n",
        "print('cost value when w = 4 :', cost(h, X, Y))"
      ],
      "execution_count": 7,
      "outputs": [
        {
          "output_type": "stream",
          "text": [
            "cost value when w = 4 : 222.2\n"
          ],
          "name": "stdout"
        }
      ]
    },
    {
      "cell_type": "markdown",
      "metadata": {
        "id": "r1bJR5-PxDFt"
      },
      "source": [
        "### Cost Surface Visualization\n",
        "\n",
        "위에서 w=4 인 경우에 대해서 cost를 확인해보았는데요. 이번엔 다양한 w에 따라서 cost 값이 어떻게 바뀌는지 확인해보겠습니다.\n",
        "w = 1.25 정도 쯤에서 cost 값이 최소가 되는 듯한 양상을 보이네요\n"
      ]
    },
    {
      "cell_type": "code",
      "metadata": {
        "colab": {
          "base_uri": "https://localhost:8080/",
          "height": 334
        },
        "id": "ag6HgFN3xHFQ",
        "outputId": "8b05b200-5e3f-48a9-8405-1feb9611219b"
      },
      "source": [
        "list_w = []\n",
        "list_c = []\n",
        "for i in range(-20, 20):\n",
        "  w = i * 0.5\n",
        "  h = H(w)\n",
        "  c = cost(h, X, Y)\n",
        "  list_w.append(w)\n",
        "  list_c.append(c)\n",
        "\n",
        "plt.figure(figsize=(10, 5))\n",
        "plt.xlabel('w')\n",
        "plt.ylabel('cost')\n",
        "plt.scatter(list_w, list_c, s=3)\n",
        "plt.show()"
      ],
      "execution_count": 12,
      "outputs": [
        {
          "output_type": "display_data",
          "data": {
            "image/png": "[encoded data removed]",
            "text/plain": [
              "<Figure size 720x360 with 1 Axes>"
            ]
          },
          "metadata": {
            "tags": [],
            "needs_background": "light"
          }
        }
      ]
    },
    {
      "cell_type": "markdown",
      "metadata": {
        "id": "kipPBSFNwJnC"
      },
      "source": [
        "## Gradient Descent Algorithm\n",
        "\n",
        "이제 특정 w 근방에서의 w에 대한 cost 의 편미분(지금은 변수가 하나라 그냥 미분과 다를바 없지만)을 구해보겠습니다.\n",
        "여기서는 두가지 방식으로 그라디언트를 구해보겠습니다.\n",
        "첫번째 방식은 수치해석적으로 w=4 인 지점과 w=4 + eps 인 지점에서의 cost 값을 각각 구한 뒤 두 값의 차이를 통해 그라이디언트를 구하는 방식입니다.\n",
        "두번째 방식은 cost function을 w로 편미분한 공식을 통해 바로 특정 w 에서의 그라디언트를 구하는 방식입니다.\n"
      ]
    },
    {
      "cell_type": "markdown",
      "metadata": {
        "id": "UnlJ9IQY6eUm"
      },
      "source": [
        "### Compare two approach in order to compute Gradient (Analytic, Formula)"
      ]
    },
    {
      "cell_type": "code",
      "metadata": {
        "colab": {
          "base_uri": "https://localhost:8080/",
          "height": 282
        },
        "id": "pjjh_Peb6gAB",
        "outputId": "5d00126e-eb85-4198-d84c-1c10901b5d98"
      },
      "source": [
        "def cal_grad(w, cost):\n",
        "  h = H(w)\n",
        "  cost1 = cost(h, X, Y)\n",
        "  eps = 0.00001\n",
        "  h = H(w + eps)\n",
        "  cost2 = cost(h, X, Y)\n",
        "  dcost = cost2 - cost1\n",
        "  dw = eps\n",
        "  grad = dcost / dw\n",
        "  return grad, (cost1 + cost2) * 0.5\n",
        "\n",
        "def cal_grad2(w, cost):\n",
        "  h = H(w)\n",
        "  grad = 0\n",
        "  for i in range(len(X)):\n",
        "    grad += 2 * (h.forward(X[i]) - Y[i]) * X[i]\n",
        "  grad /= len(X)\n",
        "  c = cost(h, X, Y)\n",
        "  return grad, c\n",
        "\n",
        "w1 = 1.4\n",
        "w2 = 1.4\n",
        "lr = 0.01\n",
        "\n",
        "list_w1 = []\n",
        "list_c1 = []\n",
        "list_w2 = []\n",
        "list_c2 = []\n",
        "\n",
        "for i in range(100):\n",
        "  grad, mean_cost = cal_grad(w1, cost)\n",
        "  grad2, mean_cost2 = cal_grad2(w2, cost)\n",
        "  \n",
        "  w1 -= lr * grad\n",
        "  w2 -= lr * grad2\n",
        "  list_w1.append(w1)\n",
        "  list_w2.append(w2)\n",
        "  list_c1.append(mean_cost)\n",
        "  list_c2.append(mean_cost2)\n",
        "\n",
        "  # print(w1, mean_cost, w2, mean_cost2)\n",
        "\n",
        "plt.scatter(list_w1, list_c1, label='analytic', marker='*')\n",
        "plt.scatter(list_w2, list_c2, label='formula')\n",
        "plt.legend()"
      ],
      "execution_count": 28,
      "outputs": [
        {
          "output_type": "execute_result",
          "data": {
            "text/plain": [
              "<matplotlib.legend.Legend at 0x7f33f24f4cd0>"
            ]
          },
          "metadata": {
            "tags": []
          },
          "execution_count": 28
        },
        {
          "output_type": "display_data",
          "data": {
            "image/png": "[encoded data removed]",
            "text/plain": [
              "<Figure size 432x288 with 1 Axes>"
            ]
          },
          "metadata": {
            "tags": [],
            "needs_background": "light"
          }
        }
      ]
    },
    {
      "cell_type": "code",
      "metadata": {
        "colab": {
          "base_uri": "https://localhost:8080/"
        },
        "id": "AdL9UEIM7YO0",
        "outputId": "0c29c8d3-7307-4098-e1a1-e98429f2729d"
      },
      "source": [
        ""
      ],
      "execution_count": 15,
      "outputs": [
        {
          "output_type": "execute_result",
          "data": {
            "text/plain": [
              "3.8409714999999665"
            ]
          },
          "metadata": {
            "tags": []
          },
          "execution_count": 15
        }
      ]
    },
    {
      "cell_type": "code",
      "metadata": {
        "id": "tpEaR5O17wXW"
      },
      "source": [
        ""
      ],
      "execution_count": null,
      "outputs": []
    }
  ]
}