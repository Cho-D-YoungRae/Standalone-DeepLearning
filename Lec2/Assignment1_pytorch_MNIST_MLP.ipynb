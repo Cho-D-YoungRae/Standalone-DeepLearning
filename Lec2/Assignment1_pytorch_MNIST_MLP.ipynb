{
 "cells": [
  {
   "cell_type": "markdown",
   "metadata": {},
   "source": [
    "# Assignment1. MNIST Digit Recogntion\n",
    "\n",
    "이 과제에서는 손으로 쓴 숫자들의 이미지를 input으로 받아서 0~9 중 어느 숫자에 해당하는지를 분류하는 10-way Classification Problem을 풀어 볼 겁니다. 지금까지 실습은 가상의 인공 데이터셋이었다면 이번에는 real-world 데이터셋이니 좀 더 설레지 않나요?\n",
    "\n",
    "`pytorch` 내에 이미 구현되어 있는 MNIST Dataset을 사용하여 데이터가 공급됩니다.  \n",
    "대신 여러분들은 Model을 짜고 올바르게 Loss Function을 활용하는 코드를 작성하는데 집중해주시길 바랍니다.  \n",
    "추가로 다양한 MLP를 만들어본 후 정확도가 어떻게 바뀌는지 자유롭게 리포트해주세요!  \n",
    "여러 실험 결과를 잘 모아서 시각화하는게 생각보다 쉽지 않답니다 :)  \n",
    "\n",
    "**Due** : 2019-01-23 22:00  \n",
    "**How to Submit** : 여러분의 깃허브 저장소를 만드신 후 작업한 .ipynb 파일을 올려주신 후 파일의 url 주소를 강의 피드백 설문 중 과제 제출 섹션에 남겨주세요! 그럼 저희가 파일을 하나하나 다운받고 열람할 필요 없이 온라인 상에서 바로 확인하기에 용이합니다 :)\n",
    "\n",
    "\n",
    "**이 문서를 구글 Colab에서 쉽게 실행해보는법**  \n",
    "1. [제가 미리 만들어놓은 이 링크](https://colab.research.google.com/github/heartcored98/Standalone-DeepLearning/blob/master/Lec2/Assignment1_pytorch_MNIST_MLP.ipynb)를 눌러 본 .ipynb 파일을 구글 Colab에서 바로 열 수 있습니다. 이때 구글에 로그인을 해야 합니다.\n",
    "2. 아무 셀이나 선택한 후 `Ctrl+Enter`를 눌러 실행해보면 **[경고: 이 노트는 Google에서 작성하지 않았습니다]**라고 뜨는데 `실행 전에 모든 런타임 재설정`을 선택한 채로 `무시하고 계속하기`를 눌러줍니다.  \n",
    "3. **[모든 런타임 재설정]** 이 뜰 텐데 `예`를 눌러줍니다.  \n",
    "4. 잠시 구글 서버의 배치가 되면서 우상단에 `연결중` -> `초기화중` -> `연결됨`이 뜨면서 실행이 가능한 상태가 됩니다.  \n",
    "\n",
    "**구글 Colab에서 실습후 저장하는법**  \n",
    "**쉽게 실행보는법**을 따라오셨다면 Colab에서 임시 노트북으로 열리기 때문에 `파일`->`드라이브로 저장`을 눌러서 여러분의 구글 드라이브에 저장하거나 `파일` -> `.ipynb 다운로드`를 눌러서 다운로드 해줍시다.   \n",
    "\n",
    "*Written by. 조재영(whwodud9@kaist.ac.kr) 2019.01.21 *"
   ]
  },
  {
   "cell_type": "markdown",
   "metadata": {},
   "source": [
    "### Install Pytorch 1.0 (For Google Colab)"
   ]
  },
  {
   "cell_type": "code",
   "execution_count": null,
   "metadata": {},
   "outputs": [],
   "source": [
    "\"\"\"#구글 Colab에서 실행할 때는 이 주석을 해제하시고 실행해서 pytorch 1.0을 깔아주세요!\n",
    "!pip install -q torch==1.0.0 torchvision\n",
    "import torch\n",
    "print(torch.__version__)\n",
    "\"\"\""
   ]
  },
  {
   "cell_type": "markdown",
   "metadata": {
    "colab_type": "text",
    "id": "23sQEXhSfY4I"
   },
   "source": [
    "### 1. Data Generation  (Preparation)\n",
    "\n",
    "Classification 실습에 사용할 데이터를 만들어봅시다. 이번에도 X가 2차원 Y가 1차원인 상황입니다. X는 모두 continuous space에 존재하고 Y는 class이기 때문에 discrete space에 분포합니다. 이번에는 방사형 데이터 분포를 가상으로 만든 후에 두 모델들이 비선형 decision-boundary를 형성할 수 있는지 테스트해보죠."
   ]
  },
  {
   "cell_type": "markdown",
   "metadata": {},
   "source": [
    "**Data Set**  \n",
    "$$X_{train} \\in \\mathcal{R}^{50000 \\times 784}, Y_{train} \\in \\mathcal{Z}^{50000}$$  \n",
    "$$X_{val} \\in \\mathcal{R}^{10000 \\times 784}, Y_{val} \\in \\mathcal{Z}^{10000}$$  \n",
    "$$X_{test} \\in \\mathcal{R}^{10000 \\times 784}, Y_{test} \\in \\mathcal{Z}^{10000}$$"
   ]
  },
  {
   "cell_type": "code",
   "execution_count": 14,
   "metadata": {},
   "outputs": [
    {
     "name": "stdout",
     "output_type": "stream",
     "text": [
      "50000 10000 10000\n"
     ]
    }
   ],
   "source": [
    "import torch\n",
    "from torchvision import datasets, transforms\n",
    "\n",
    "batch_size = 128\n",
    "train_dataset = datasets.MNIST('./data', train=True, download=True,\n",
    "                   transform=transforms.Compose([\n",
    "                       transforms.ToTensor(),\n",
    "                       transforms.Normalize((0.1307,), (0.3081,))\n",
    "                   ]))\n",
    "test_dataset =  datasets.MNIST('./data', train=False, download=True,\n",
    "                   transform=transforms.Compose([\n",
    "                       transforms.ToTensor(),\n",
    "                       transforms.Normalize((0.1307,), (0.3081,))\n",
    "                   ]))\n",
    "train_dataset, val_dataset = torch.utils.data.random_split(train_dataset, [50000, 10000])\n",
    "print(len(train_dataset), len(val_dataset), len(test_dataset))\n",
    "\n",
    "train_loader = torch.utils.data.DataLoader(train_dataset, batch_size=128, shuffle=True)\n",
    "val_loader = torch.utils.data.DataLoader(val_dataset, batch_size=128, shuffle=False)\n",
    "test_loader = torch.utils.data.DataLoader(test_dataset, batch_size=128, shuffle=False)"
   ]
  },
  {
   "cell_type": "markdown",
   "metadata": {},
   "source": [
    "### Inspecting Dataset"
   ]
  },
  {
   "cell_type": "code",
   "execution_count": 29,
   "metadata": {},
   "outputs": [
    {
     "data": {
      "image/png": "[encoded data removed]",
      "text/plain": [
       "<Figure size 1080x648 with 6 Axes>"
      ]
     },
     "metadata": {
      "needs_background": "light"
     },
     "output_type": "display_data"
    }
   ],
   "source": [
    "examples = enumerate(train_loader)\n",
    "batch_idx, (example_data, example_targets) = next(examples)  \n",
    "\n",
    "import matplotlib.pyplot as plt\n",
    "\n",
    "fig = plt.figure(figsize=(15, 9))\n",
    "for i in range(6):\n",
    "    plt.subplot(2,3,i+1)\n",
    "    plt.tight_layout()\n",
    "    plt.imshow(example_data[i][0], cmap='gray', interpolation='none')\n",
    "    plt.title(\"Ground Truth: {}\".format(example_targets[i]))\n",
    "plt.show()"
   ]
  },
  {
   "cell_type": "markdown",
   "metadata": {
    "colab_type": "text",
    "id": "lEqtbTROlXuB"
   },
   "source": [
    "### 2. Hypothesis Define (Model Define)  \n",
    "\n",
    "Logistic Regression Model을 파이토치로 구현할 때는 Regression 문제를 풀 때와 똑같이 `nn.Linear` 모듈과 non-linear activation fuction만 달아주면 됩니다. **Model 내에서 Softmax를 사용할 필요가 없습니다..!** 그 이유는 softmax 함수가 뒤에 나오는 파이썬 내장 **CrossEntropyLoss 함수에 들어가** 있기 때문이죠.\n",
    "\n",
    "\n",
    "**Multi-Label Logistic Model**   \n",
    "$$z = \\ XW + b \\ \\ ( W \\in \\mathcal{R}^{2 \\times 3}, b \\in \\mathcal{R}^{3}, z \\in \\mathcal{R}^{N \\times 3}$$  \n",
    "$$H = \\ softmax(z) \\ \\ (  H \\in \\mathcal{R}^{N \\times 3})$$  \n",
    "\n",
    "\n",
    "**MLP Model**\n",
    "$$Let \\ relu(X) = \\ max(X, 0)$$  \n",
    "\n",
    "$$h = \\ relu(X W_1 + b_1) \\ \\  ( W_1 \\in \\mathcal{R}^{2 \\times 200}, b_1 \\in \\mathcal{R}^{200}, h \\in \\mathcal{R}^{N \\times 200}$$  \n",
    "\n",
    "$$z = \\ h W_2 + b_2  \\ \\  ( W_2 \\in \\mathcal{R}^{200 \\times 3}, b_2 \\in \\mathcal{R}^{3}, z \\in \\mathcal{R}^{N  \\times 3})$$  \n",
    "\n",
    "$$H = \\ softmax(z) \\ \\ ( H \\in \\mathcal{R}^{N \\times 3})$$  \n"
   ]
  },
  {
   "cell_type": "code",
   "execution_count": null,
   "metadata": {
    "colab": {
     "base_uri": "https://localhost:8080/",
     "height": 53
    },
    "colab_type": "code",
    "id": "40ht43Q1JpYI",
    "outputId": "2e740bff-a553-4f68-8091-23c77fc6d5be"
   },
   "outputs": [],
   "source": [
    "import torch\n",
    "import torch.nn as nn\n",
    "\n",
    "\n",
    "class LinearModel(nn.Module):\n",
    "    def __init__(self): \n",
    "        super(LinearModel, self).__init__()\n",
    "        self.linear = nn.Linear(in_features=784, out_features=10, bias=True)\n",
    "        self.softmax = nn.Softmax()\n",
    "    \n",
    "    def forward(self, x):\n",
    "        x = self.linear(x)\n",
    "        return x\n",
    "\n",
    "    \n",
    "class MLPModel(nn.Module):\n",
    "    def __init__(self): \n",
    "        super(MLPModel, self).__init__()\n",
    "        self.linear1 = nn.Linear(in_features=2, out_features=200)\n",
    "        self.linear2 = nn.Linear(in_features=200, out_features=3)\n",
    "        self.relu = nn.ReLU()\n",
    "        self.softmax = nn.Softmax()\n",
    "    \n",
    "    def forward(self, x):\n",
    "        x = self.linear1(x)\n",
    "        x = self.relu(x)\n",
    "        x = self.linear2(x)\n",
    "        return x"
   ]
  },
  {
   "cell_type": "markdown",
   "metadata": {
    "colab_type": "text",
    "id": "FgdSvskSotgI"
   },
   "source": [
    "### 3. Cost Function Define (Loss Function Define)  \n",
    "\n",
    "Multi-Label Problem 에서의 Loss Function을 작성해봅시다.  \n",
    "파이토치의 `nn` 아래에는 다양한 Loss Function이 이미 구현되어 있습니다.  \n",
    "[여기](https://pytorch.org/docs/stable/_modules/torch/nn/modules/loss.html)에서 파이토치 내부에 구현되어 있는 MSE, Cross-Entropy, KL-Divergence 등을 확인할 수 있습니다.  \n",
    "이 실습에서는 Classification Problem 이므로 `CrossEntropyLoss()`를 사용해봅시다.  \n",
    "\n",
    "`input`은 $ N \\times Num Class $ 차원을 가지면 되며 float 형태여야 하고,  \n",
    "`target`은 $ N $ 차원을 가지고 각 엘리먼트는 $ i $ 번째 클래스를 나타내는 int형이면 되는군요.\n",
    "\n",
    "CrossEntropy Documentation : https://pytorch.org/docs/stable/nn.html#crossentropyloss"
   ]
  },
  {
   "cell_type": "code",
   "execution_count": null,
   "metadata": {
    "colab": {
     "base_uri": "https://localhost:8080/",
     "height": 53
    },
    "colab_type": "code",
    "id": "yzNkZ_uwnufC",
    "outputId": "d6edd719-7915-4931-e16a-d6d618578da0"
   },
   "outputs": [],
   "source": [
    "cls_loss = nn.CrossEntropyLoss()\n",
    "\n",
    "\"\"\"# Cross Entropy를 테스트해봅시다\n",
    "test_pred_y = torch.Tensor([[2,0.1],[0,1]])\n",
    "test_true_y1 = torch.Tensor([1,0]).long()\n",
    "test_true_y2 = torch.Tensor([0,1]).long()\n",
    "\n",
    "print(cls_loss(test_pred_y, test_true_y1))\n",
    "print(cls_loss(test_pred_y, test_true_y2))\n",
    "\"\"\""
   ]
  },
  {
   "cell_type": "markdown",
   "metadata": {},
   "source": [
    "### 4. Train & Evaluation\n",
    "이제 모델도 정의했고 Loss Function도 정의했으니 한번 학습시켜볼까요?  \n",
    "저번에는 저희가 직접 파라미터(w 하나)에 따른 loss의 편미분을 유도하고 거기서 나온 그라디언트로 w를 업데이트했는데요.  \n",
    "`pytorch`에서는 loss.backward() 라는 기능을 쓰면 알아서 loss를 계산되는데 사용한 각 파라미터에 대한 loss의 편미분을 계산해줍니다.  \n",
    "이후 `optimizer.step()` 함수를 사용하면 각 파라미터의 그라디언트를 바탕으로 파라미터의 값을 조금씩 업데이트 해줍니다. \n",
    "\n",
    "이 때 모델은 매 Iteration 때마다 Train Set에 의해 학습되면서 동시에 Validation Set을 넣고 Loss를 비교하게 됩니다. \n",
    "그리고 저희가 평가하고 싶은 때마다 (지금은 200번) Test Set을 넣고 Visualize 하는데 필요한 Predicted y값과 Metric 값을 계산합니다.  \n",
    "이번에는 Classification Task에서 기본적으로 사용하는 **Accuracy**를 **Metric**으로 활용해보겠습니다.  \n",
    "accuracy를 계산하는 함수가 이미 `sklearn.metrics`에 구현되어 있으니 불러와 사용하도록 합시다.  \n",
    "\n",
    "accuracy_score Documentation : https://scikit-learn.org/stable/modules/generated/sklearn.metrics.accuracy_score.html\n",
    "  \n",
    "  \n",
    "$$ Accuracy = \\frac{Number \\ of \\ correct \\ prediction}{Total \\ number \\ of \\ predictions \\ made} $$"
   ]
  },
  {
   "cell_type": "code",
   "execution_count": null,
   "metadata": {
    "scrolled": false
   },
   "outputs": [],
   "source": [
    "import torch.optim as optim\n",
    "from sklearn.metrics import accuracy_score\n",
    "\n",
    "# ====== Construct Model ====== #\n",
    "# model = LinearModel()\n",
    "# print(model.linear.weight)\n",
    "# print(model.linear.bias)\n",
    "\n",
    "model = MLPModel() # Model을 생성해줍니다.\n",
    "print('{} parameters'.format(sum(p.numel() for p in model.parameters() if p.requires_grad))) # 복잡해보이지만 간단히 모델 내에 학습을 당할 파라미터 수를 카운팅하는 코드입니다.\n",
    "\n",
    "# ===== Construct Optimizer ====== #\n",
    "lr = 0.005 # Learning Rate를 하나 정해줍니다. (원할한 학습을 위해 손을 많이 탑니다)\n",
    "optimizer = optim.SGD(model.parameters(), lr=lr) # Optimizer를 생성해줍니다.\n",
    "\n",
    "# 매 학습 단계에서의 epoch값과 그 때의 loss 값을 저장할 리스트를 만들어줍시다.\n",
    "list_epoch = [] \n",
    "list_train_loss = []\n",
    "list_val_loss = []\n",
    "list_acc = []\n",
    "list_acc_epoch = []\n",
    "\n",
    "\n",
    "epoch = 4000 # 학습 횟수(epoch)을 지정해줍시다.\n",
    "for i in range(epoch):\n",
    "    \n",
    "    # ====== Train ====== #\n",
    "    model.train() # model을 train 모드로 세팅합니다. 반대로 향후 모델을 평가할 때는 eval() 모드로 변경할 겁니다 (나중 실습에서 쓸 겁니다)\n",
    "    optimizer.zero_grad() # optimizer에 남아있을 수도 있는 잔여 그라디언트를 0으로 다 초기화해줍니다.\n",
    "    \n",
    "    input_x = torch.Tensor(train_X)\n",
    "    true_y = torch.Tensor(train_y).long()\n",
    "    pred_y = model(input_x)\n",
    "    #print(input_x.shape, true_y.shape, pred_y.shape) # 각 인풋과 아웃풋의 차원을 체크해봅니다.\n",
    "    \n",
    "    loss = cls_loss(pred_y.squeeze(), true_y)\n",
    "    loss.backward() # backward()를 통해서 그라디언트를 구해줍니다.\n",
    "    optimizer.step() # step()을 통해서 그라디언틀르 바탕으로 파라미터를 업데이트 해줍니다. \n",
    "    list_epoch.append(i)\n",
    "    list_train_loss.append(loss.detach().numpy())\n",
    "    \n",
    "    \n",
    "    # ====== Validation ====== #\n",
    "    model.eval()\n",
    "    optimizer.zero_grad()\n",
    "    input_x = torch.Tensor(val_X)\n",
    "    true_y = torch.Tensor(val_y).long()\n",
    "    pred_y = model(input_x)   \n",
    "    loss = cls_loss(pred_y.squeeze(), true_y)\n",
    "    list_val_loss.append(loss.detach().numpy())\n",
    "    \n",
    "\n",
    "    # ====== Evaluation ======= #\n",
    "    if i % 200 == 0: # 200회의 학습마다 실제 데이터 분포와 모델이 예측한 분포를 그려봅니다.\n",
    "        \n",
    "        # ====== Calculate Accuracy ====== #\n",
    "        model.eval()\n",
    "        optimizer.zero_grad()\n",
    "        input_x = torch.Tensor(test_X)\n",
    "        true_y = torch.Tensor(test_y)\n",
    "        pred_y = model(input_x).detach().max(dim=1)[1].numpy() \n",
    "        acc = accuracy_score(true_y, pred_y) # sklearn 쪽 함수들은 true_y 가 먼저, pred_y가 나중에 인자로 들어가는 것에 주의합시다\n",
    "        list_acc.append(acc)\n",
    "        list_acc_epoch.append(i)\n",
    "\n",
    "        fig = plt.figure(figsize=(15,5))\n",
    "        \n",
    "        # ====== True Y Scattering ====== #\n",
    "        ax1 = fig.add_subplot(1, 3, 1)\n",
    "        ax1.scatter(test_X[:, 0], test_X[:, 1], c=test_y)\n",
    "        ax1.set_xlabel('x1')\n",
    "        ax1.set_ylabel('x2')\n",
    "        ax1.set_title('True test y')\n",
    "        \n",
    "        # ====== Predicted Y Scattering ====== #\n",
    "        ax2 = fig.add_subplot(1, 3, 2)\n",
    "        ax2.scatter(test_X[:, 0], test_X[:, 1], c=pred_y)\n",
    "        ax2.set_xlabel('x1')\n",
    "        ax2.set_ylabel('x2')\n",
    "        ax2.set_title('Predicted test y')\n",
    "        \n",
    "        # ====== Just for Visualizaing with High Resolution ====== #\n",
    "        input_x = torch.Tensor(train_X)\n",
    "        pred_y = model(input_x).detach().max(dim=1)[1].numpy() \n",
    "        \n",
    "        ax3 = fig.add_subplot(1, 3, 3)\n",
    "        ax3.scatter(train_X[:, 0], train_X[:, 1], c=pred_y)\n",
    "        ax3.set_xlabel('x1')\n",
    "        ax3.set_ylabel('x2')\n",
    "        ax3.set_title('Prediction on train set')\n",
    "\n",
    "        plt.show()\n",
    "        print('Epoch: ', i,  'Accuracy: ', acc*100, '%')"
   ]
  },
  {
   "cell_type": "markdown",
   "metadata": {},
   "source": [
    "### 5. Report Experiment  \n",
    "학습 과정에서 기록했던 train_loss와 val_loss를 그려봅시다.   \n",
    "Loss가 꾸준히 줄어드는지 확인하고 val_loss가 증가하기 시킨다면 그 이상의 학습은 점점 모델의 성능을 망침을 뜻합니다. \n",
    "그 옆에는 Epoch에 따라서 MAE metric이 얼마나 감소하는지 확인해봅시다."
   ]
  },
  {
   "cell_type": "code",
   "execution_count": null,
   "metadata": {
    "scrolled": true
   },
   "outputs": [],
   "source": [
    "fig = plt.figure(figsize=(15,5))\n",
    "\n",
    "# ====== Loss Fluctuation ====== #\n",
    "ax1 = fig.add_subplot(1, 2, 1)\n",
    "ax1.plot(list_epoch, list_train_loss, label='train_loss')\n",
    "ax1.plot(list_epoch, list_val_loss, '--', label='val_loss')\n",
    "ax1.set_xlabel('epoch')\n",
    "ax1.set_ylabel('loss')\n",
    "ax1.grid()\n",
    "ax1.legend()\n",
    "ax1.set_title('epoch vs loss')\n",
    "\n",
    "# ====== Metric Fluctuation ====== #\n",
    "ax2 = fig.add_subplot(1, 2, 2)\n",
    "ax2.plot(list_acc_epoch, list_acc, marker='x', label='Accuracy metric')\n",
    "ax2.set_xlabel('epoch')\n",
    "ax2.set_ylabel('Acc')\n",
    "ax2.grid()\n",
    "ax2.legend()\n",
    "ax2.set_title('epoch vs Accuracy')\n",
    "\n",
    "plt.show()"
   ]
  }
 ],
 "metadata": {
  "colab": {
   "collapsed_sections": [],
   "include_colab_link": true,
   "name": "linear regression.ipynb",
   "provenance": [],
   "version": "0.3.2"
  },
  "kernelspec": {
   "display_name": "Python (comet2)",
   "language": "python",
   "name": "comet2"
  },
  "language_info": {
   "codemirror_mode": {
    "name": "ipython",
    "version": 3
   },
   "file_extension": ".py",
   "mimetype": "text/x-python",
   "name": "python",
   "nbconvert_exporter": "python",
   "pygments_lexer": "ipython3",
   "version": "3.6.7"
  }
 },
 "nbformat": 4,
 "nbformat_minor": 1
}
