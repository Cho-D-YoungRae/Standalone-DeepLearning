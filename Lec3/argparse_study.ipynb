{
  "nbformat": 4,
  "nbformat_minor": 0,
  "metadata": {
    "colab": {
      "name": "argparse_study.ipynb",
      "provenance": [],
      "authorship_tag": "ABX9TyNGI94SXydpQ4rn/Svp3tpG"
    },
    "kernelspec": {
      "name": "python3",
      "display_name": "Python 3"
    },
    "language_info": {
      "name": "python"
    }
  },
  "cells": [
    {
      "cell_type": "code",
      "metadata": {
        "id": "uEJ4ynkjZ_tY"
      },
      "source": [
        "import argparse"
      ],
      "execution_count": 2,
      "outputs": []
    },
    {
      "cell_type": "code",
      "metadata": {
        "id": "mzvroCP8aDsP"
      },
      "source": [
        "parser = argparse.ArgumentParser()\n",
        "args = parser.parse_args(\"\")"
      ],
      "execution_count": 3,
      "outputs": []
    },
    {
      "cell_type": "code",
      "metadata": {
        "colab": {
          "base_uri": "https://localhost:8080/"
        },
        "id": "PsXOSbB-aLd8",
        "outputId": "66b81a17-c54d-4826-c0a3-75d117cbdbed"
      },
      "source": [
        "args.num_layer = 5\n",
        "print(args.num_layer)\n",
        "print(args)"
      ],
      "execution_count": 4,
      "outputs": [
        {
          "output_type": "stream",
          "text": [
            "5\n",
            "Namespace(num_layer=5)\n"
          ],
          "name": "stdout"
        }
      ]
    },
    {
      "cell_type": "code",
      "metadata": {
        "colab": {
          "base_uri": "https://localhost:8080/"
        },
        "id": "3Tgu8SB4aSeq",
        "outputId": "2643e68c-0abb-4283-8fcc-2ea36c5029c6"
      },
      "source": [
        "args.in_dim = 100\n",
        "print(args)"
      ],
      "execution_count": 5,
      "outputs": [
        {
          "output_type": "stream",
          "text": [
            "Namespace(in_dim=100, num_layer=5)\n"
          ],
          "name": "stdout"
        }
      ]
    },
    {
      "cell_type": "code",
      "metadata": {
        "colab": {
          "base_uri": "https://localhost:8080/"
        },
        "id": "H6DiB-5WaXJx",
        "outputId": "9cff6b38-d436-4316-cedf-bb0838d326c2"
      },
      "source": [
        "d = vars(args)\n",
        "print(d, type(d))"
      ],
      "execution_count": 7,
      "outputs": [
        {
          "output_type": "stream",
          "text": [
            "{'num_layer': 5, 'in_dim': 100} <class 'dict'>\n"
          ],
          "name": "stdout"
        }
      ]
    },
    {
      "cell_type": "code",
      "metadata": {
        "id": "pn1pn5Vjatym"
      },
      "source": [
        ""
      ],
      "execution_count": null,
      "outputs": []
    }
  ]
}