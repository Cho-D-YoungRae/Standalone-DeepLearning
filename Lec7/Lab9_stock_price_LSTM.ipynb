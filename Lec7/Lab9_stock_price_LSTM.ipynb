{
 "cells": [
  {
   "cell_type": "code",
   "execution_count": 2,
   "metadata": {},
   "outputs": [
    {
     "name": "stdout",
     "output_type": "stream",
     "text": [
      "1.0.1.post2\n",
      "Populating the interactive namespace from numpy and matplotlib\n"
     ]
    }
   ],
   "source": [
    "import pandas as pd\n",
    "import pandas_datareader.data as pdr\n",
    "import datetime\n",
    "import torch\n",
    "from torch.utils.data import Dataset, DataLoader\n",
    "import numpy as np\n",
    "\n",
    "\n",
    "print(torch.__version__)\n",
    "%matplotlib inline\n",
    "%pylab inline\n",
    "pylab.rcParams['figure.figsize'] = (15, 9)"
   ]
  },
  {
   "cell_type": "code",
   "execution_count": null,
   "metadata": {},
   "outputs": [],
   "source": [
    "\n",
    " \n",
    "# We will look at stock prices over the past year, starting at January 1, 2016\n",
    "start = (2000, 12, 1)\n",
    "start = datetime.datetime(*start)\n",
    "end = datetime.date.today()\n",
    "\n",
    "google = pdr.DataReader('028050.KS', 'yahoo', start, end)"
   ]
  },
  {
   "cell_type": "code",
   "execution_count": null,
   "metadata": {},
   "outputs": [],
   "source": [
    "google.Low.plot(grid=True)"
   ]
  },
  {
   "cell_type": "code",
   "execution_count": null,
   "metadata": {},
   "outputs": [],
   "source": [
    "google.tail()\n",
    "i = 50\n",
    "a = google.iloc[100:200]\n",
    "a = a.apply(lambda x: (x-x[i]) /  x[i])\n",
    "a"
   ]
  },
  {
   "cell_type": "code",
   "execution_count": 26,
   "metadata": {},
   "outputs": [],
   "source": [
    "class StockDataset(Dataset):\n",
    "    \n",
    "    def __init__(self, symbol, x_frames, y_frames, start, end):\n",
    "        \n",
    "        self.symbol = symbol\n",
    "        self.x_frames = x_frames\n",
    "        self.y_frames = y_frames\n",
    "        \n",
    "        self.start = datetime.datetime(*start)\n",
    "        self.end = datetime.datetime(*end)\n",
    "\n",
    "        self.data = pdr.DataReader(self.symbol, 'yahoo', self.start, self.end)\n",
    "        \n",
    "    def __len__(self):\n",
    "        return len(self.data) - (self.x_frames + self.y_frames) + 1\n",
    "    \n",
    "    def __getitem__(self, idx):\n",
    "        idx += self.x_frames\n",
    "        data = self.data.iloc[idx-self.x_frames:idx+self.y_frames]\n",
    "        data = data[['High', 'Low', 'Open', 'Close', 'Adj Close', 'Volume']]\n",
    "        data = data.apply(lambda x: x / x[self.x_frames] - 1)\n",
    "        data = data.values\n",
    "        X = data[:self.x_frames]\n",
    "        y = data[self.x_frames:]\n",
    "        \n",
    "        return {'X':X, 'y': y}\n",
    "        \n"
   ]
  },
  {
   "cell_type": "code",
   "execution_count": 27,
   "metadata": {},
   "outputs": [],
   "source": [
    "dataset = StockDataset('028050.KS', 5, 5, (2000,2,1), (2019, 2,1))\n",
    "dataloader = DataLoader(dataset, batch_size=10, shuffle=True)"
   ]
  },
  {
   "cell_type": "code",
   "execution_count": 28,
   "metadata": {},
   "outputs": [
    {
     "name": "stdout",
     "output_type": "stream",
     "text": [
      "torch.Size([10, 5, 6]) torch.Size([10, 5, 6])\n",
      "tensor([[-0.1219, -0.0687, -0.0266, -0.1423, -0.1423, -0.4655],\n",
      "        [-0.1219, -0.0969, -0.0609, -0.1239, -0.1239, -0.4342],\n",
      "        [-0.1399, -0.1250, -0.0297, -0.2113, -0.2113, -0.5379],\n",
      "        [-0.1828, -0.1656, -0.1656, -0.1930, -0.1930, -0.6284],\n",
      "        [-0.0942, -0.1500, -0.1109, -0.1127, -0.1127, -0.1015]],\n",
      "       dtype=torch.float64)\n"
     ]
    }
   ],
   "source": [
    "for batch in dataloader:\n",
    "    X = batch['X']\n",
    "    y = batch['y']\n",
    "    print(X.shape, y.shape)\n",
    "    print(X[0])\n",
    "    break"
   ]
  },
  {
   "cell_type": "code",
   "execution_count": null,
   "metadata": {},
   "outputs": [],
   "source": []
  }
 ],
 "metadata": {
  "kernelspec": {
   "display_name": "Python (pytorch)",
   "language": "python",
   "name": "pytorch"
  }
 },
 "nbformat": 4,
 "nbformat_minor": 2
}
